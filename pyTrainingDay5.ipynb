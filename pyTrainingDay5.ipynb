{
 "cells": [
  {
   "cell_type": "markdown",
   "metadata": {},
   "source": [
    "# 正则表达式"
   ]
  },
  {
   "cell_type": "markdown",
   "metadata": {},
   "source": [
    "正则表达式是一个特殊的字符序列，方便检查一个字符串是否与某种模式匹配。\n",
    "re模块使python语言拥有全部的正则表达式功能"
   ]
  },
  {
   "cell_type": "code",
   "execution_count": 49,
   "metadata": {},
   "outputs": [],
   "source": [
    "# 1、用字符来描述字符 ：\n",
    "# \\d(一个数字) \\w(一个字母或数字) "
   ]
  },
  {
   "cell_type": "code",
   "execution_count": 50,
   "metadata": {},
   "outputs": [
    {
     "name": "stdout",
     "output_type": "stream",
     "text": [
      "(0, 3)\n",
      "<_sre.SRE_Match object; span=(0, 3), match='123'>\n"
     ]
    },
    {
     "ename": "AttributeError",
     "evalue": "'NoneType' object has no attribute 'span'",
     "output_type": "error",
     "traceback": [
      "\u001b[1;31m---------------------------------------------------------------------------\u001b[0m",
      "\u001b[1;31mAttributeError\u001b[0m                            Traceback (most recent call last)",
      "\u001b[1;32m<ipython-input-50-30f70973dff6>\u001b[0m in \u001b[0;36m<module>\u001b[1;34m\u001b[0m\n\u001b[0;32m      1\u001b[0m \u001b[0mprint\u001b[0m\u001b[1;33m(\u001b[0m\u001b[0mre\u001b[0m\u001b[1;33m.\u001b[0m\u001b[0mmatch\u001b[0m\u001b[1;33m(\u001b[0m\u001b[1;34m'00\\d'\u001b[0m\u001b[1;33m,\u001b[0m\u001b[1;34m'0075'\u001b[0m\u001b[1;33m)\u001b[0m\u001b[1;33m.\u001b[0m\u001b[0mspan\u001b[0m\u001b[1;33m(\u001b[0m\u001b[1;33m)\u001b[0m\u001b[1;33m)\u001b[0m\u001b[1;33m\u001b[0m\u001b[0m\n\u001b[0;32m      2\u001b[0m \u001b[0mprint\u001b[0m\u001b[1;33m(\u001b[0m\u001b[0mre\u001b[0m\u001b[1;33m.\u001b[0m\u001b[0mmatch\u001b[0m\u001b[1;33m(\u001b[0m\u001b[1;34m'\\d\\d\\d'\u001b[0m\u001b[1;33m,\u001b[0m\u001b[1;34m'123'\u001b[0m\u001b[1;33m)\u001b[0m\u001b[1;33m)\u001b[0m\u001b[1;33m\u001b[0m\u001b[0m\n\u001b[1;32m----> 3\u001b[1;33m \u001b[0mprint\u001b[0m\u001b[1;33m(\u001b[0m\u001b[0mre\u001b[0m\u001b[1;33m.\u001b[0m\u001b[0mmatch\u001b[0m\u001b[1;33m(\u001b[0m\u001b[1;34m'00\\d'\u001b[0m\u001b[1;33m,\u001b[0m\u001b[1;34m'00A'\u001b[0m\u001b[1;33m)\u001b[0m\u001b[1;33m.\u001b[0m\u001b[0mspan\u001b[0m\u001b[1;33m(\u001b[0m\u001b[1;33m)\u001b[0m\u001b[1;33m)\u001b[0m\u001b[1;31m#无法匹配成功\u001b[0m\u001b[1;33m\u001b[0m\u001b[0m\n\u001b[0m",
      "\u001b[1;31mAttributeError\u001b[0m: 'NoneType' object has no attribute 'span'"
     ]
    }
   ],
   "source": [
    "print(re.match('00\\d','0075').span())\n",
    "print(re.match('\\d\\d\\d','123'))\n",
    "print(re.match('00\\d','00A').span())#无法匹配成功"
   ]
  },
  {
   "cell_type": "code",
   "execution_count": null,
   "metadata": {},
   "outputs": [],
   "source": [
    "# .(匹配任意字符) ‘py.'可以匹配'pyc' 'py1' 'py!'等等\n",
    "# *表示任意个字符（包括0个），可匹配边长的字符\n",
    "# +表示至少匹配一个字符， ？表示0个或1个字符， {n}表示n个字符， {n,m}表示n~m个字符\n",
    "# eg：\\d{3}\\s+\\d{3,8} \n",
    "# \\d{3}匹配3个数字   \\s 可匹配一个空格(也包括Tab等空白符),所以\\s+表示至少有一个空格\n",
    "# \\d{3,8}表示匹配3~8个数字，如‘123456’"
   ]
  },
  {
   "cell_type": "code",
   "execution_count": 43,
   "metadata": {},
   "outputs": [
    {
     "name": "stdout",
     "output_type": "stream",
     "text": [
      "<_sre.SRE_Match object; span=(0, 9), match='010-12345'>\n"
     ]
    }
   ],
   "source": [
    "print(re.match('\\d{3}\\-\\d{3,8}','010-12345abc')) #-是特殊字符，要用反斜杠转义"
   ]
  },
  {
   "cell_type": "code",
   "execution_count": null,
   "metadata": {},
   "outputs": [],
   "source": [
    "# []表示范围\n",
    "# [0-9a-zA-Z\\_]可匹配一个数字、字母或者下划线\n",
    "# [0-9\\_]+至少匹配一个数字或下划线组成的字符串\n",
    "# [a-zA-Z\\_][0-9a-zA-Z\\_]*可以匹配有字母或下划线开头后接任意个由字母、数字下划线组成的字符串，及合法的变量\n",
    "# [a-zA-Z\\_][0-9a-zA-Z\\_]{0,19}更精确的限制了变量的长度是1~20个字符"
   ]
  },
  {
   "cell_type": "code",
   "execution_count": 48,
   "metadata": {},
   "outputs": [
    {
     "name": "stdout",
     "output_type": "stream",
     "text": [
      "<_sre.SRE_Match object; span=(0, 4), match='01_1'>\n",
      "<_sre.SRE_Match object; span=(0, 5), match='_01_1'>\n",
      "<_sre.SRE_Match object; span=(0, 2), match='_0'>\n",
      "None\n"
     ]
    }
   ],
   "source": [
    "print(re.match('[0-9\\_]+','01_1a'))\n",
    "print(re.match('[0-9\\_]+','_01_1a'))\n",
    "print(re.match('[0-9\\_]+','_0a1_1a'))\n",
    "print(re.match('[0-9\\_]+','a_01_1a'))"
   ]
  },
  {
   "cell_type": "code",
   "execution_count": null,
   "metadata": {},
   "outputs": [],
   "source": [
    "# A|B 可以匹配A或B，(P|p)ython可匹配‘Python'或’python'\n",
    "# ^表示行的开头   ^\\d表示必须以数字开头\n",
    "# $ 表示行的结束  \\d^$表示必须以数字结束"
   ]
  },
  {
   "cell_type": "code",
   "execution_count": 57,
   "metadata": {},
   "outputs": [
    {
     "name": "stdout",
     "output_type": "stream",
     "text": [
      "<_sre.SRE_Match object; span=(0, 2), match='py'>\n",
      "None\n",
      "<_sre.SRE_Match object; span=(0, 2), match='py'>\n"
     ]
    }
   ],
   "source": [
    "print(re.match('py','python'))\n",
    "print(re.match('^py$','python'))\n",
    "print(re.match('^py$','py'))     #加上^py$就只能匹配'py'了"
   ]
  },
  {
   "cell_type": "code",
   "execution_count": 54,
   "metadata": {},
   "outputs": [],
   "source": [
    "# 2、re模块：常用的正则表达式处理函数\n",
    "# 1) re.match(pattern,strign,flags=0)"
   ]
  },
  {
   "cell_type": "code",
   "execution_count": 64,
   "metadata": {},
   "outputs": [
    {
     "name": "stdout",
     "output_type": "stream",
     "text": [
      "<_sre.SRE_Match object; span=(0, 10), match='010-123456'>\n",
      "<_sre.SRE_Match object; span=(0, 11), match='010 1234567'>\n",
      "<_sre.SRE_Match object; span=(0, 10), match='010-123456'>\n"
     ]
    }
   ],
   "source": [
    "import re\n",
    "# match()方法判断是否匹配，如果匹配成功，返回一个match对象，否则返回none\n",
    "print(re.match(r'^\\d{3}\\-\\d{3,8}$','010-123456')) \n",
    "print(re.match(r'^\\d{3}\\s\\d{3,8}$','010 1234567')) \n",
    "print(re.match(r'^\\d{3}.\\d{3,8}$','010-123456')) "
   ]
  },
  {
   "cell_type": "code",
   "execution_count": 68,
   "metadata": {},
   "outputs": [
    {
     "name": "stdout",
     "output_type": "stream",
     "text": [
      "请输入一个字符串：正则表达式。。。。\n",
      "OK\n"
     ]
    }
   ],
   "source": [
    "str=input(\"请输入一个字符串：\")\n",
    "if re.match(r'正则表达式',str):\n",
    "    print(\"OK\")\n",
    "else:\n",
    "    print(\"failed\")"
   ]
  },
  {
   "cell_type": "code",
   "execution_count": null,
   "metadata": {},
   "outputs": [],
   "source": [
    "# 3、切分字符串"
   ]
  },
  {
   "cell_type": "code",
   "execution_count": 69,
   "metadata": {},
   "outputs": [
    {
     "name": "stdout",
     "output_type": "stream",
     "text": [
      "['a', 'b', '', 'c.']\n"
     ]
    }
   ],
   "source": [
    "print('a b  c.'.split(' ')) #无法识别连续的空格"
   ]
  },
  {
   "cell_type": "code",
   "execution_count": 70,
   "metadata": {},
   "outputs": [
    {
     "name": "stdout",
     "output_type": "stream",
     "text": [
      "['a', 'b', 'c...']\n"
     ]
    }
   ],
   "source": [
    "print(re.split(r'\\s+','a b   c...'))"
   ]
  },
  {
   "cell_type": "code",
   "execution_count": 72,
   "metadata": {},
   "outputs": [
    {
     "name": "stdout",
     "output_type": "stream",
     "text": [
      "['a', 'bb', 'c', 'd']\n"
     ]
    }
   ],
   "source": [
    "print(re.split(r'[\\s\\,\\;]+','a,;;;bb  ,c ,d'))\n",
    "# 如果用户输入了一组标签，可用正则表达式把不规范的输入转化成正确的数组"
   ]
  },
  {
   "cell_type": "code",
   "execution_count": null,
   "metadata": {},
   "outputs": [],
   "source": [
    "# 4、分组  用于提取字符串，（）表示的就是要提取的分组（Group）"
   ]
  },
  {
   "cell_type": "code",
   "execution_count": 76,
   "metadata": {},
   "outputs": [
    {
     "name": "stdout",
     "output_type": "stream",
     "text": [
      "matchObj.group(): i love coding,i'm just ki\n",
      "matchObj.group(1): i\n",
      "matchObj.group(2): coding\n",
      "matchObj.group(3): i'm\n",
      "matchObj.group(4): just\n",
      "matchObj.group(5): ki\n"
     ]
    }
   ],
   "source": [
    "import re\n",
    "str=\"i love coding,i'm just kidding.\"\n",
    "matchObj=re.match(r'(.*) love (.*),(.*) (.*) (..)',str,re.M|re.I)\n",
    "if matchObj:\n",
    "    print(\"matchObj.group():\",matchObj.group(0)) #group(0)永远是原始字符串\n",
    "    print(\"matchObj.group(1):\",matchObj.group(1))\n",
    "    print(\"matchObj.group(2):\",matchObj.group(2))\n",
    "    print(\"matchObj.group(3):\",matchObj.group(3))\n",
    "    print(\"matchObj.group(4):\",matchObj.group(4))\n",
    "    print(\"matchObj.group(5):\",matchObj.group(5))\n",
    "else:\n",
    "    print(\"No match\")"
   ]
  },
  {
   "cell_type": "code",
   "execution_count": 84,
   "metadata": {},
   "outputs": [
    {
     "name": "stdout",
     "output_type": "stream",
     "text": [
      "('10', '24', '33') 10\n"
     ]
    }
   ],
   "source": [
    "t='10:24:33'\n",
    "m=re.match(r'^(0[0-9]|1[0-9]|2[0-9]|[0-9]):([0-5][0-9]):([0-5][0-9]$)',t)\n",
    "print(m.groups(),m.group(1))\n",
    "# 这个正则只能直接识别合法的时间"
   ]
  },
  {
   "cell_type": "code",
   "execution_count": null,
   "metadata": {},
   "outputs": [],
   "source": [
    "# 5、贪婪匹配 正则匹配默认是贪婪匹配，也就是尽可能匹配多的字符"
   ]
  },
  {
   "cell_type": "code",
   "execution_count": 89,
   "metadata": {},
   "outputs": [
    {
     "name": "stdout",
     "output_type": "stream",
     "text": [
      "100020003000\n",
      "\n"
     ]
    }
   ],
   "source": [
    "print(re.match(r'^(\\d+)(0*)$','100020003000').group(1))\n",
    "print(re.match(r'^(\\d+)(0*)$','100020003000').group(2))\n",
    "# \\d+采用贪婪匹配，直接把后面的数字全匹配了，而0*只能匹配空字符串了"
   ]
  },
  {
   "cell_type": "code",
   "execution_count": 93,
   "metadata": {},
   "outputs": [
    {
     "name": "stdout",
     "output_type": "stream",
     "text": [
      "('100020003', '000')\n"
     ]
    }
   ],
   "source": [
    "print(re.match(r'^(\\d+?)(0*)$','100020003000').groups())\n",
    "#  ? 可以让 \\d+ 采用非贪婪匹配"
   ]
  },
  {
   "cell_type": "markdown",
   "metadata": {},
   "source": [
    "在Python中使用正则表达式时，re模块会做两件事：\n",
    "1.编译正则表达式，如果正则字符串本身不合法，会报错；\n",
    "2.用编译后的正则表达式去匹配字符串。\n",
    "如果一个正则表达式要重复使用几千次，处于效率考虑，可以预编译正则表达式，接下来重复使用时就不需要编译这个步骤了，\n",
    "直接匹配"
   ]
  },
  {
   "cell_type": "code",
   "execution_count": 94,
   "metadata": {},
   "outputs": [
    {
     "name": "stdout",
     "output_type": "stream",
     "text": [
      "('010', '123556')\n",
      "('050', '654321')\n"
     ]
    }
   ],
   "source": [
    "import re\n",
    "re_telephone=re.compile(r'^(\\d{3})-(\\d{3,8})$')\n",
    "print(re_telephone.match('010-123556').groups())\n",
    "print(re_telephone.match('050-654321').groups())\n",
    "# 编译后为Regular Expression对象，该对象自己包含了正则表达式，所以调用对应的方法时不用给出正则字符串"
   ]
  },
  {
   "cell_type": "markdown",
   "metadata": {},
   "source": [
    "# OS文件/目录方法"
   ]
  },
  {
   "cell_type": "markdown",
   "metadata": {},
   "source": [
    "os模块提供了非常丰富的方法用来处理文件和目录，常用方法如下："
   ]
  },
  {
   "cell_type": "code",
   "execution_count": 118,
   "metadata": {},
   "outputs": [
    {
     "name": "stdout",
     "output_type": "stream",
     "text": [
      "True\n",
      "E:\\2.allDrea\\pythonFold\\pyTraining\n",
      "E:\\2.allDrea\\pythonFold\n"
     ]
    }
   ],
   "source": [
    "import os\n",
    "print(os.access(r'E:\\2.allDrea\\pythonFold\\pyTraining',os.F_OK)) #检验是否有访问权限的路径\n",
    "os.chdir(r\"E:\\2.allDrea\\pythonFold\\pyTraining\")#改变当前工作目录\n",
    "print(os.getcwd())  #返回当前工作路径\n",
    "os.chdir(r\"../\")\n",
    "print(os.getcwd())\n",
    "os.chdir(r'.\\pyTraining')"
   ]
  },
  {
   "cell_type": "code",
   "execution_count": 130,
   "metadata": {},
   "outputs": [],
   "source": [
    "fd=os.open('output.txt',os.O_RDWR|os.O_CREAT)\n",
    "# os.write(fd,\\x02)\n",
    "os.close(fd)"
   ]
  },
  {
   "cell_type": "code",
   "execution_count": 138,
   "metadata": {},
   "outputs": [
    {
     "data": {
      "text/plain": [
       "['.git',\n",
       " '.gitattributes',\n",
       " 'bg.jpg',\n",
       " 'homework.txt',\n",
       " 'HomeworkDay1.py',\n",
       " 'input.csv',\n",
       " 'output.txt',\n",
       " 'PyTrainingDay1.py',\n",
       " 'pyTrainingDay2.py',\n",
       " 'pyTrainingDay3.py',\n",
       " 'pyTrainingDay4.py',\n",
       " 'pyTrianingDay5.py']"
      ]
     },
     "execution_count": 138,
     "metadata": {},
     "output_type": "execute_result"
    }
   ],
   "source": [
    "# print(os.listdir(r'D:\\'))\n",
    "os.listdir(r'E:\\2.allDrea\\pythonFold\\pyTraining') #返回path指定的文件夹包含的文件或文件夹名字列表6"
   ]
  },
  {
   "cell_type": "code",
   "execution_count": 139,
   "metadata": {},
   "outputs": [],
   "source": [
    "os.mkdir(r'E:\\2.allDrea\\pythonFold\\pyTraining\\newdir')\n",
    "# 对应文件夹下已经创建了newdir文件夹"
   ]
  },
  {
   "cell_type": "code",
   "execution_count": 140,
   "metadata": {},
   "outputs": [
    {
     "ename": "AttributeError",
     "evalue": "module 'os' has no attribute 'fork'",
     "output_type": "error",
     "traceback": [
      "\u001b[1;31m---------------------------------------------------------------------------\u001b[0m",
      "\u001b[1;31mAttributeError\u001b[0m                            Traceback (most recent call last)",
      "\u001b[1;32m<ipython-input-140-24e22b5da31e>\u001b[0m in \u001b[0;36m<module>\u001b[1;34m\u001b[0m\n\u001b[0;32m      2\u001b[0m \u001b[1;31m# the child will write text to a pipe and the parent will read the text written by chile\u001b[0m\u001b[1;33m\u001b[0m\u001b[1;33m\u001b[0m\u001b[0m\n\u001b[0;32m      3\u001b[0m \u001b[0mr\u001b[0m\u001b[1;33m,\u001b[0m\u001b[0mw\u001b[0m\u001b[1;33m=\u001b[0m\u001b[0mos\u001b[0m\u001b[1;33m.\u001b[0m\u001b[0mpipe\u001b[0m\u001b[1;33m(\u001b[0m\u001b[1;33m)\u001b[0m\u001b[1;33m\u001b[0m\u001b[0m\n\u001b[1;32m----> 4\u001b[1;33m \u001b[0mprocessid\u001b[0m\u001b[1;33m=\u001b[0m\u001b[0mos\u001b[0m\u001b[1;33m.\u001b[0m\u001b[0mfork\u001b[0m\u001b[1;33m(\u001b[0m\u001b[1;33m)\u001b[0m\u001b[1;33m\u001b[0m\u001b[0m\n\u001b[0m\u001b[0;32m      5\u001b[0m \u001b[1;32mif\u001b[0m \u001b[0mprocessid\u001b[0m\u001b[1;33m:\u001b[0m\u001b[1;33m\u001b[0m\u001b[0m\n\u001b[0;32m      6\u001b[0m     \u001b[0mos\u001b[0m\u001b[1;33m.\u001b[0m\u001b[0mclose\u001b[0m\u001b[1;33m(\u001b[0m\u001b[0mw\u001b[0m\u001b[1;33m)\u001b[0m\u001b[1;33m\u001b[0m\u001b[0m\n",
      "\u001b[1;31mAttributeError\u001b[0m: module 'os' has no attribute 'fork'"
     ]
    }
   ],
   "source": [
    "# os.pipe()方法用于创建一个管道，返回一个对文件描述符(r,w)分别为读和写\n",
    "# 该方法未能成功实现！！！\n",
    "# the child will write text to a pipe and the parent will read the text written by chile\n",
    "r,w=os.pipe()\n",
    "processid=os.fork()\n",
    "if processid:\n",
    "    os.close(w)\n",
    "    r=os.fdopen(r)    \n",
    "    print(\"Parent reading\")\n",
    "    str=r.read()\n",
    "    print(\"text=\",str)\n",
    "    sys.exit(0)\n",
    "else:\n",
    "    os.colse(s)\n",
    "    w=os.fsopen(w,'w')\n",
    "    print(\"child written\")\n",
    "    w.colse()\n",
    "    print(\"child closing\")\n",
    "    sys.exit(0)"
   ]
  },
  {
   "cell_type": "code",
   "execution_count": 152,
   "metadata": {},
   "outputs": [
    {
     "name": "stdout",
     "output_type": "stream",
     "text": [
      "E:\\2.allDrea\\pythonFold\\pyTraining\\homework.txt\n",
      "pyTraining\n",
      ".\n",
      "False\n"
     ]
    }
   ],
   "source": [
    "print(os.path.abspath(\"homework.txt\")) # 返回绝对路径      \n",
    "print(os.path.basename(r\"E:\\2.allDrea\\pythonFold\\pyTraining\")) #返回文件名\n",
    "print(os.path.dirname(\".\\homework.txt\"))    # 返回文件路径\n",
    "print(os.path.isfile(\"E:\\2.allDrea\\pythonFold\\pyTraining\")) #判断是否为文件\n",
    "# path模块方法还有很多"
   ]
  },
  {
   "cell_type": "markdown",
   "metadata": {},
   "source": [
    "# datetime模块"
   ]
  },
  {
   "cell_type": "code",
   "execution_count": null,
   "metadata": {},
   "outputs": [],
   "source": [
    "# datetime是python处理日期和时间的标准库\n",
    "# 1、获得当前日期和时间"
   ]
  },
  {
   "cell_type": "code",
   "execution_count": 153,
   "metadata": {},
   "outputs": [
    {
     "name": "stdout",
     "output_type": "stream",
     "text": [
      "当前时间： 2019-01-30 13:17:57.648822\n",
      "返回的对象类型： <class 'datetime.datetime'>\n"
     ]
    }
   ],
   "source": [
    "from datetime import datetime\n",
    "# datetime是模块，datetime模块还包含一个datetime类，通过上面一句导入的才是datetime类\n",
    "# 若仅导入datetime模块，则必须引用全名datetime.datetime.now()\n",
    "now=datetime.now()\n",
    "print(\"当前时间：\",now)\n",
    "print(\"返回的对象类型：\",type(now))"
   ]
  },
  {
   "cell_type": "code",
   "execution_count": null,
   "metadata": {},
   "outputs": [],
   "source": [
    "# 2、获取指定日期和时间，可用参数构造一个datetime对象\n",
    "# 3、datetime转换为timestamp "
   ]
  },
  {
   "cell_type": "code",
   "execution_count": 158,
   "metadata": {},
   "outputs": [
    {
     "name": "stdout",
     "output_type": "stream",
     "text": [
      "2019-01-30 13:21:00\n",
      "1548825660.0\n"
     ]
    }
   ],
   "source": [
    "dt=datetime(2019,1,30,13,21)\n",
    "print(dt)\n",
    "print(dt.timestamp()) #注意：timestamp是一个浮点数，小数位表示毫秒数"
   ]
  },
  {
   "cell_type": "code",
   "execution_count": null,
   "metadata": {},
   "outputs": [],
   "source": [
    "# 3、timestamp转为datetime\n",
    "# 注意：timestamp是一个浮点数，没有失去的概念，而datetime是有时区的，下面转换是在timestamp和本地时间做转换"
   ]
  },
  {
   "cell_type": "code",
   "execution_count": 161,
   "metadata": {},
   "outputs": [
    {
     "name": "stdout",
     "output_type": "stream",
     "text": [
      "2019-01-30 13:30:00\n"
     ]
    }
   ],
   "source": [
    "t=datetime(2019,1,30,13,30).timestamp()\n",
    "print(datxszetime.fromtimestamp(t))"
   ]
  },
  {
   "cell_type": "code",
   "execution_count": null,
   "metadata": {},
   "outputs": [],
   "source": [
    "# 4、str转datetime   "
   ]
  },
  {
   "cell_type": "code",
   "execution_count": 23,
   "metadata": {},
   "outputs": [
    {
     "name": "stdout",
     "output_type": "stream",
     "text": [
      "请按照Y-m-d H:M:S的格式输入一个日期：2019-1-30 16:21:20\n",
      "2019-01-30 16:21:20\n"
     ]
    }
   ],
   "source": [
    "from datetime import datetime\n",
    "str=input(\"请按照Y-m-d H:M:S的格式输入一个日期：\")\n",
    "cday=datetime.strptime(str,'%Y-%m-%d %H:%M:%S')\n",
    "print(cday)"
   ]
  },
  {
   "cell_type": "code",
   "execution_count": null,
   "metadata": {},
   "outputs": [],
   "source": [
    "# 5、datetime转str"
   ]
  },
  {
   "cell_type": "code",
   "execution_count": 3,
   "metadata": {},
   "outputs": [
    {
     "name": "stdout",
     "output_type": "stream",
     "text": [
      "Wed,Jan 30 15:32:41\n"
     ]
    }
   ],
   "source": [
    "from datetime import datetime\n",
    "now=datetime.now()\n",
    "print(now.strftime('%a,%b %d %H:%M:%S'))"
   ]
  },
  {
   "cell_type": "code",
   "execution_count": null,
   "metadata": {},
   "outputs": [],
   "source": [
    "# 6、datetime加减 对datetime进行加减就是往后或往前计算，得到新的datetime，\n",
    "# 可以直接利用+ -运算符，不过要导入timedelta"
   ]
  },
  {
   "cell_type": "code",
   "execution_count": 9,
   "metadata": {},
   "outputs": [
    {
     "name": "stdout",
     "output_type": "stream",
     "text": [
      "5小时之后的时间： 2019-01-30 20:38:23.011201\n",
      "5小时之前的时间： 2019-01-30 10:38:23.011201\n",
      "2天零5小时以前的时间为： 2019-02-01 20:38:23.011201\n"
     ]
    }
   ],
   "source": [
    "from datetime import datetime,timedelta\n",
    "now=datetime.now()\n",
    "print(\"5小时之后的时间：\",now+timedelta(hours=5))\n",
    "print(\"5小时之前的时间：\",now-timedelta(hours=5))\n",
    "print(\"2天零5小时以前的时间为：\",now+timedelta(days=2,hours=5))"
   ]
  },
  {
   "cell_type": "markdown",
   "metadata": {},
   "source": [
    "# http请求 "
   ]
  },
  {
   "cell_type": "markdown",
   "metadata": {},
   "source": [
    "urllib提供了一系列用于操作URL的功能"
   ]
  },
  {
   "cell_type": "code",
   "execution_count": null,
   "metadata": {},
   "outputs": [],
   "source": [
    "# 1、GET 发送一个get请求到指定的页面，然后返回http的响应"
   ]
  },
  {
   "cell_type": "code",
   "execution_count": 12,
   "metadata": {},
   "outputs": [
    {
     "name": "stdout",
     "output_type": "stream",
     "text": [
      "Status: 200 OK\n",
      "Date:Wed, 30 Jan 2019 07:51:02 GMT\n",
      "Content-Type:application/json; charset=utf-8\n",
      "Content-Length:2138\n",
      "Connection:close\n",
      "Vary:Accept-Encoding\n",
      "X-Ratelimit-Remaining2:97\n",
      "X-Ratelimit-Limit2:100\n",
      "Expires:Sun, 1 Jan 2006 01:00:00 GMT\n",
      "Pragma:no-cache\n",
      "Cache-Control:must-revalidate, no-cache, private\n",
      "Set-Cookie:bid=iCXVvRv6MfE; Expires=Thu, 30-Jan-20 07:51:02 GMT; Domain=.douban.com; Path=/\n",
      "X-DOUBAN-NEWBID:iCXVvRv6MfE\n",
      "X-DAE-Node:anson32\n",
      "X-DAE-App:book\n",
      "Server:dae\n",
      "X-Frame-Options:SAMEORIGIN\n",
      "Data: {\"rating\":{\"max\":10,\"numRaters\":16,\"average\":\"7.4\",\"min\":0},\"subtitle\":\"\",\"author\":[\"廖雪峰\"],\"pubdate\":\"2007\",\"tags\":[{\"count\":23,\"name\":\"spring\",\"title\":\"spring\"},{\"count\":14,\"name\":\"Java\",\"title\":\"Java\"},{\"count\":6,\"name\":\"javaee\",\"title\":\"javaee\"},{\"count\":5,\"name\":\"j2ee\",\"title\":\"j2ee\"},{\"count\":4,\"name\":\"计算机\",\"title\":\"计算机\"},{\"count\":3,\"name\":\"藏书\",\"title\":\"藏书\"},{\"count\":3,\"name\":\"编程\",\"title\":\"编程\"},{\"count\":3,\"name\":\"POJO\",\"title\":\"POJO\"}],\"origin_title\":\"\",\"image\":\"https://img3.doubanio.com\\/view\\/subject\\/m\\/public\\/s2552283.jpg\",\"binding\":\"平装\",\"translator\":[],\"catalog\":\"\",\"pages\":\"509\",\"images\":{\"small\":\"https://img3.doubanio.com\\/view\\/subject\\/s\\/public\\/s2552283.jpg\",\"large\":\"https://img3.doubanio.com\\/view\\/subject\\/l\\/public\\/s2552283.jpg\",\"medium\":\"https://img3.doubanio.com\\/view\\/subject\\/m\\/public\\/s2552283.jpg\"},\"alt\":\"https:\\/\\/book.douban.com\\/subject\\/2129650\\/\",\"id\":\"2129650\",\"publisher\":\"电子工业出版社\",\"isbn10\":\"7121042622\",\"isbn13\":\"9787121042621\",\"title\":\"Spring 2.0核心技术与最佳实践\",\"url\":\"https:\\/\\/api.douban.com\\/v2\\/book\\/2129650\",\"alt_title\":\"\",\"author_intro\":\"\",\"summary\":\"本书注重实践而又深入理论，由浅入深且详细介绍了Spring 2.0框架的几乎全部的内容，并重点突出2.0版本的新特性。本书将为读者展示如何应用Spring 2.0框架创建灵活高效的JavaEE应用，并提供了一个真正可直接部署的完整的Web应用程序——Live在线书店(http:\\/\\/www.livebookstore.net)。\\n在介绍Spring框架的同时，本书还介绍了与Spring相关的大量第三方框架，涉及领域全面，实用性强。本书另一大特色是实用性强，易于上手，以实际项目为出发点，介绍项目开发中应遵循的最佳开发模式。\\n本书还介绍了大量实践性极强的例子，并给出了完整的配置步骤，几乎覆盖了Spring 2.0版本的新特性。\\n本书适合有一定Java基础的读者，对JavaEE开发人员特别有帮助。本书既可以作为Spring 2.0的学习指南，也可以作为实际项目开发的参考手册。\",\"price\":\"59.8\"}\n"
     ]
    }
   ],
   "source": [
    "from urllib import request\n",
    "with request.urlopen('https://api.douban.com/v2/book/2129650') as f:\n",
    "    data=f.read()\n",
    "    print(\"Status:\",f.status,f.reason)\n",
    "    for k,v in f.getheaders():\n",
    "        print('%s:%s'%(k,v))\n",
    "    print('Data:',data.decode('utf-8'))"
   ]
  },
  {
   "cell_type": "markdown",
   "metadata": {},
   "source": [
    "模拟浏览器发送get请求，就需要使用Request对象，通过往Request对象添加HTTP头，就可以把请求伪装成浏览器。\n",
    "如下，模拟iPhone 6去请求豆瓣首页"
   ]
  },
  {
   "cell_type": "code",
   "execution_count": 13,
   "metadata": {},
   "outputs": [
    {
     "name": "stdout",
     "output_type": "stream",
     "text": [
      "Status: 200 OK\n",
      "Date:Wed, 30 Jan 2019 07:59:28 GMT\n",
      "Content-Type:text/html; charset=utf-8\n",
      "Transfer-Encoding:chunked\n",
      "Connection:close\n",
      "Vary:Accept-Encoding\n",
      "X-Xss-Protection:1; mode=block\n",
      "X-Douban-Mobileapp:0\n",
      "Expires:Sun, 1 Jan 2006 01:00:00 GMT\n",
      "Pragma:no-cache\n",
      "Cache-Control:must-revalidate, no-cache, private\n",
      "Set-Cookie:talionnav_show_app=\"0\"\n",
      "Set-Cookie:bid=Zz9ZHkabqKY; Expires=Thu, 30-Jan-20 07:59:28 GMT; Domain=.douban.com; Path=/\n",
      "X-DOUBAN-NEWBID:Zz9ZHkabqKY\n",
      "X-DAE-Node:anson31\n",
      "X-DAE-App:talion\n",
      "Server:dae\n",
      "X-Frame-Options:SAMEORIGIN\n",
      "Strict-Transport-Security:max-age=15552000;\n",
      "X-Content-Type-Options:nosniff\n",
      "Data: \n",
      "\n",
      "\n",
      "<!DOCTYPE html>\n",
      "<html itemscope itemtype=\"http://schema.org/WebPage\" class=\"ua-safari ua-mobile \">\n",
      "    <head>\n",
      "        <meta charset=\"UTF-8\">\n",
      "        <title>豆瓣(手机版)</title>\n",
      "        <meta name=\"google-site-verification\" content=\"ok0wCgT20tBBgo9_zat2iAcimtN4Ftf5ccsh092Xeyw\" />\n",
      "        <meta name=\"viewport\" content=\"width=device-width, height=device-height, user-scalable=no, initial-scale=1.0, minimum-scale=1.0, maximum-scale=1.0\">\n",
      "        <meta name=\"format-detection\" content=\"telephone=no\">\n",
      "        <link rel=\"canonical\" href=\"\n",
      "http://m.douban.com/\">\n",
      "        <link href=\"https://img3.doubanio.com/f/talion/2c9146da13cbc37b03c4468afecdfaf935c9cf32/css/card/base.css\" rel=\"stylesheet\">\n",
      "        \n",
      "    <meta name=\"description\" content=\"读书、看电影、涨知识、学穿搭...，加入兴趣小组，获得达人们的高质量生活经验，找到有相同爱好的小伙伴。\">\n",
      "    <meta name=\"keywords\" content=\"豆瓣,手机豆瓣,豆瓣手机版,豆瓣电影,豆瓣读书,豆瓣同城\">\n",
      "    \n",
      "    \n",
      "\n",
      "    <!-- Schema.org markup for Google+ -->\n",
      "    <meta itemprop=\"name\" content=\"豆瓣\">\n",
      "    <meta itemprop=\"description\" content=\"读书、看电影、涨知识、学穿搭...，加入兴趣小组，获得达人们的高质量生活经验，找到有相同爱好的小伙伴。\">\n",
      "    <meta itemprop=\"image\" content=\"https://img3.doubanio.com/f/talion/8e7b9cbd097c02972c4191aa03fdb084524505c4/pics/icon/m_logo_180.png\">\n",
      "    <!-- Twitter meta -->\n",
      "    <meta name=\"twitter:card\" content=\"summary\" />\n",
      "    <!-- Open Graph meta -->\n",
      "    <meta property=\"og:title\" content=\"豆瓣\" />\n",
      "    <meta property=\"og:description\" content=\"读书、看电影、涨知识、学穿搭...，加入兴趣小组，获得达人们的高质量生活经验，找到有相同爱好的小伙伴。\" />\n",
      "    <meta property=\"og:site_name\" content=\"豆瓣(手机版)\" />\n",
      "    <meta property=\"og:url\" content=\"https://m.douban.com/\" />\n",
      "    <meta property=\"og:image\" content=\"https://img3.doubanio.com/f/talion/8e7b9cbd097c02972c4191aa03fdb084524505c4/pics/icon/m_logo_180.png\" />\n",
      "    <meta property=\"og:image:type\" content=\"image/png\" />\n",
      "    <meta property=\"og:image:width\" content=\"300\" />\n",
      "    <meta property=\"og:image:height\" content=\"300\" />\n",
      "    <meta property=\"og:type\" content=\"article\" />\n",
      "    <!-- Wechat meta -->\n",
      "    <meta property=\"weixin:timeline_title\" content=\"豆瓣\" />\n",
      "    <meta property=\"weixin:chat_title\" content=\"豆瓣\" />\n",
      "    <meta property=\"weixin:description\" content=\"读书、看电影、涨知识、学穿搭...，加入兴趣小组，获得达人们的高质量生活经验，找到有相同爱好的小伙伴。\" />\n",
      "    <meta property=\"weixin:image\" content=\"https://img3.doubanio.com/f/talion/8e7b9cbd097c02972c4191aa03fdb084524505c4/pics/icon/m_logo_180.png\" />\n",
      "    <script>\n",
      "    ;(function () {\n",
      "        window.setMeta = function (name, val) {\n",
      "          var meta = document.querySelectorAll('meta[property=\"' + name + '\"], meta[name=\"' + name + '\"]')\n",
      "          if (!meta.length) {\n",
      "            meta = document.createElement('meta')\n",
      "            meta.name = name\n",
      "            document.head.appendChild(meta)\n",
      "            meta = [meta]\n",
      "          }\n",
      "         meta[0].content = val || ''\n",
      "        }\n",
      "        window.getMeta = function (name) {\n",
      "          var meta = document.querySelectorAll('meta[property=\"' + name + '\"], meta[name=\"' + name + '\"]')\n",
      "          if (!meta.length) {\n",
      "            return ''\n",
      "          } else {\n",
      "            return meta[0].content\n",
      "          }\n",
      "        }\n",
      "        !getMeta('weixin:chat_title') && setMeta('weixin:chat_title', document.title)\n",
      "        !getMeta('weixin:timeline_title') && setMeta('weixin:timeline_title', document.title)\n",
      "        !getMeta('weixin:description') && setMeta('weixin:description', getMeta('og:description'))\n",
      "    })();\n",
      "    </script>\n",
      "\n",
      "\n",
      "        <link rel=\"stylesheet\" href=\"https://img3.doubanio.com/misc/mixed_static/468e9211d89502ad.css\">\n",
      "        <link rel=\"icon\" type=\"image/png\" sizes=\"16x16\" href=\"https://img3.doubanio.com/f/talion/c970bb0d720963a7392f7dd6c77068bb9925caaf/pics/icon/dou16.png\">\n",
      "        <link rel=\"icon\" type=\"image/png\" sizes=\"32x32\" href=\"https://img3.doubanio.com/f/talion/2f3c0bc0f35b031d4535fd993ae3936f4e40e6c8/pics/icon/dou32.png\">\n",
      "        <link rel=\"icon\" type=\"image/png\" sizes=\"48x48\" href=\"https://img3.doubanio.com/f/talion/10a4a913a5715f628e4b598f7f9f2c18621bdcb3/pics/icon/dou48.png\">\n",
      "        <!-- iOS touch icon -->\n",
      "        <link rel=\"apple-touch-icon-precomposed\" href=\"https://img3.doubanio.com/f/talion/997f2018d82979da970030a5eb84c77f0123ae5f/pics/icon/m_logo_76.png\">\n",
      "        <link rel=\"apple-touch-icon-precomposed\" sizes=\"76x76\" href=\"https://img3.doubanio.com/f/talion/997f2018d82979da970030a5eb84c77f0123ae5f/pics/icon/m_logo_76.png\">\n",
      "        <link rel=\"apple-touch-icon-precomposed\" sizes=\"120x120\" href=\"https://img3.doubanio.com/f/talion/18932a3e71a60ed7150ca2ca7ebf21ddadd7092e/pics/icon/m_logo_120.png\">\n",
      "        <link rel=\"apple-touch-icon-precomposed\" sizes=\"152x152\" href=\"https://img3.doubanio.com/f/talion/b99497ff8538c54b9ba6f40867da932396ab2562/pics/icon/m_logo_152.png\">\n",
      "        <link rel=\"apple-touch-icon-precomposed\" sizes=\"167x167\" href=\"https://img3.doubanio.com/f/talion/0c233ada957a95e632f81607e30230d16e8293e8/pics/icon/m_logo_167.png\">\n",
      "        <link rel=\"apple-touch-icon-precomposed\" sizes=\"180x180\" href=\"https://img3.doubanio.com/f/talion/8e7b9cbd097c02972c4191aa03fdb084524505c4/pics/icon/m_logo_180.png\">\n",
      "        <link rel=\"apple-touch-icon-precomposed\" sizes=\"200x200\" href=\"https://img3.doubanio.com/f/talion/7c6364aadf368dc0210173c940cfd0f64ceddc66/pics/icon/m_logo_200.png\">\n",
      "        <!-- For Android -->\n",
      "        <link rel=\"icon\" sizes=\"128x128\" href=\"https://img3.doubanio.com/f/talion/b99497ff8538c54b9ba6f40867da932396ab2562/pics/icon/m_logo_152.png\">\n",
      "        <link rel=\"icon\" sizes=\"192x192\" href=\"https://img3.doubanio.com/f/talion/7c6364aadf368dc0210173c940cfd0f64ceddc66/pics/icon/m_logo_200.png\">\n",
      "        <!-- For Web App Manifest -->\n",
      "        \n",
      "  \n",
      "  \n",
      "  <link rel=\"manifest\" href=\"/pwa/manifest?path=/&short_name=%E8%B1%86%E7%93%A3%28%E6%89%8B%E6%9C%BA%E7%89%88%29&name=%E8%B1%86%E7%93%A3%28%E6%89%8B%E6%9C%BA%E7%89%88%29\">\n",
      "  <meta name=\"theme-color\" content=\"#42bd56\">\n",
      "\n",
      "\n",
      "        <link type=\"application/opensearchdescription+xml\" rel=\"search\" href=\"/opensearch\"/>\n",
      "            <!-- hm baidu -->\n",
      "            <script type=\"text/javascript\">\n",
      "            var _hmt = _hmt || [];\n",
      "            (function() {\n",
      "              var hm = document.createElement(\"script\");\n",
      "              hm.src = \"https://hm.baidu.com/hm.js?6d4a8cfea88fa457c3127e14fb5fabc2\";\n",
      "              var s = document.getElementsByTagName(\"script\")[0];\n",
      "              s.parentNode.insertBefore(hm, s);\n",
      "            })();\n",
      "            _hmt.logTruncate = function(type) {\n",
      "                _hmt.push(['_trackEvent', 'article', 'truncate', type, 1]);\n",
      "            }\n",
      "            </script>\n",
      "    </head>\n",
      "    <body ontouchstart=\"\">\n",
      "        \n",
      "        \n",
      "\n",
      "        \n",
      "    \n",
      "    \n",
      "        <div id=\"TalionNav\"><header class=\"TalionNav\"><div class=\"TalionNav-primary\"><a href=\"/\" class=\"logo\"><h1>豆瓣</h1></a><nav><span class=\"\"></span><a href=\"javascript:;;\" class=\"openapp\" id=\"topnav-openapp\">打开豆瓣App</a></nav></div><div class=\"TalionNav-secondary\"><a class=\"close-nav\" href=\"javascript:;\">关闭</a><form action=\"/search\" method=\"GET\"><div><input name=\"query\" type=\"search\"></div></form><ul><li><div><a href=\"/movie\" target=\"_blank\"><strong style=\"color: #2384E8;\">电影</strong><span>影院热映</span></a><a href=\"https://douban.com/location\" target=\"\"><strong style=\"color: #E6467E;\">同城</strong><span>周末活动</span></a><a href=\"https://read.douban.com\" target=\"\"><strong style=\"color: #9F7860;\">阅读</strong><span>电子书</span></a><a href=\"/status\" target=\"_blank\"><strong style=\"color: #E1644D;\">广播</strong><span>友邻动态</span></a></div></li><li><div><a href=\"/tv\" target=\"_blank\"><strong style=\"color: #7A6ADB;\">电视</strong><span>正在热播</span></a><a href=\"/group\" target=\"_blank\"><strong style=\"color: #2AB8CC;\">小组</strong><span>志趣相投</span></a><a href=\"/game\" target=\"_blank\"><strong style=\"color: #5774C5;\">游戏</strong><span>虚拟世界</span></a><a href=\"https://douban.fm\" target=\"\"><strong style=\"color: #40CFA9;\">FM</strong><span>红心歌单</span></a></div></li><li><div><a href=\"/book\" target=\"_blank\"><strong style=\"color: #9F7860;\">图书</strong><span>畅销排行</span></a><a href=\"/music\" target=\"_blank\"><strong style=\"color: #F48F2E;\">音乐</strong><span>新碟榜</span></a><a href=\"/mobileapp\" target=\"_blank\"><strong style=\"color: #596CDD;\">应用</strong><span>玩手机</span></a><a href=\"https://market.douban.com/?utm_campaign=mobile_web_douban_nav&amp;utm_source=douban&amp;utm_medium=mobile_web\" target=\"\"><strong style=\"color: #42BD56;\">豆品</strong><span>生活美学</span></a></div></li></ul><div class=\"navBottom\"><div class=\"nav-item\"><a class=\"toUser\" href=\"/mine/\">我的豆瓣</a><a class=\"toExit\" href=\"https://accounts.douban.com/logout?ck=undefined&amp;redir=http://accounts.douban.com/passport/login\">退出豆瓣</a></div><div class=\"nav-item\"><a class=\"toPC\" href=\"/to_pc/?url=about%3Ablank\">使用桌面版</a><a class=\"toApp\">使用豆瓣App</a></div></div></div></header></div>\n",
      "\n",
      "\n",
      "        <div class=\"page\">\n",
      "            \n",
      "    <div class=\"card\">\n",
      "        <ul class=\"quick-nav\">\n",
      "            <li>\n",
      "                <a href=\"/movie/nowintheater?loc_id=108288\">影院热映</a>\n",
      "            </li>\n",
      "              <li>\n",
      "                  <a href=\"/group/explore/livingaboard/\">生活在别处</a>\n",
      "              </li>\n",
      "            <li>\n",
      "                <a id=\"hot-topics\" href=\"https://m.douban.com/time/?dt_time_source=douban-msite_shortcut\">豆瓣时间</a>\n",
      "            </li>\n",
      "            <li>\n",
      "                <a href=\"https://www.douban.com/doubanapp/app?channel=card_home&direct_dl=1\">使用豆瓣App</a>\n",
      "            </li>\n",
      "        </ul>\n",
      "        <section id=\"recommend-feed\"></section>\n",
      "    </div>\n",
      "\n",
      "        </div>\n",
      "\n",
      "        <script src=\"https://img3.doubanio.com/f/talion/ee8e0c54293aefb5709ececbdf082f8091ad5e49/js/card/zepto.min.js\"></script>\n",
      "        <script src=\"https://img3.doubanio.com/f/talion/42f333766505f2ca1e11adff3b6417fe8586e767/js/card/main.js\"></script>\n",
      "        <script src=\"https://img3.doubanio.com/f/talion/f53cc45d4a16969b8592d776f476d9784a283e4a/js/lib/douban-ad-helper.js\"></script>\n",
      "\n",
      "\n",
      "\n",
      "        \n",
      "    \n",
      "  \n",
      "\n",
      "\n",
      "        \n",
      "  \n",
      "\n",
      "  \n",
      "        <script src=\"https://img3.doubanio.com/f/talion/88fc2b21c8dda5c93aa4c011eb15b74f8850978f/js/lib/react/15.3.0/react-all.min.js\"></script>\n",
      "\n",
      "\n",
      "  <script type=\"text/javascript\">\n",
      "    var userCfg = {}\n",
      "  </script>\n",
      "\n",
      "  \n",
      "\n",
      "  \n",
      "  \n",
      "\n",
      "\n",
      "\n",
      "        <script type=\"text/javascript\" src=\"https://img3.doubanio.com/misc/mixed_static/1ae2e6fbf45ebd40.js\"></script>\n",
      "        \n",
      "\n",
      "\n",
      "<script type=\"text/javascript\" data-mobile=\"true\">\n",
      "    (function (global) {\n",
      "        var newNode = global.document.createElement('script'),\n",
      "            existingNode = global.document.getElementsByTagName('script')[0],\n",
      "            adSource = '//erebor.douban.com/',\n",
      "            userId = '',\n",
      "            browserId = 'Zz9ZHkabqKY',\n",
      "            criteria = '3:/',\n",
      "            preview = '',\n",
      "            debug = false;\n",
      "\n",
      "        global.DoubanAdRequest = {src: adSource, uid: userId, bid: browserId, crtr: criteria, prv: preview, debug: debug};\n",
      "\n",
      "        newNode.setAttribute('type', 'text/javascript');\n",
      "        newNode.setAttribute('src', 'https://img3.doubanio.com/f/adjs/dd37385211bc8deb01376096bfa14d2c0436a98c/ad.release.js');\n",
      "        newNode.setAttribute('async', true);\n",
      "        existingNode.parentNode.insertBefore(newNode, existingNode);\n",
      "    })(this);\n",
      "</script>\n",
      "\n",
      "\n",
      "        \n",
      "  \n",
      "\n",
      "\n",
      "        <script type='text/javascript'>\n",
      "            \n",
      "            ;(function(global) {\n",
      "                if (window.DoubanAdRequest) {\n",
      "                    window.DoubanAdRequest.filter = []\n",
      "                }\n",
      "                global.DoubanAdSlots = global.DoubanAdSlots || []\n",
      "            })(window);\n",
      "        </script>\n",
      "            <!-- Google Tag Manager -->\n",
      "<noscript><iframe src=\"//www.googletagmanager.com/ns.html?id=GTM-NZHN7H\" height=\"0\" width=\"0\" style=\"display:none;visibility:hidden\"></iframe></noscript>\n",
      "<script>(function(w,d,s,l,i){w[l]=w[l]||[];w[l].push({'gtm.start':new Date().getTime(),event:'gtm.js'});var f=d.getElementsByTagName(s)[0],j=d.createElement(s),dl=l!='dataLayer'?'&l='+l:'';j.async=true;j.src='//www.googletagmanager.com/gtm.js?id='+i+dl;f.parentNode.insertBefore(j,f);})(window,document,'script','dataLayer','GTM-NZHN7H');</script>\n",
      "<!-- End Google Tag Manager -->\n",
      "<!-- Google Analytics -->\n",
      "<script>\n",
      "window.ga=window.ga||function(){(ga.q=ga.q||[]).push(arguments)};ga.l=+new Date;\n",
      "ga('create', 'UA-53594431-3', {'sampleRate': 4});\n",
      "ga('send', 'pageview');\n",
      "</script>\n",
      "<script async src='//www.google-analytics.com/analytics.js'></script>\n",
      "<!-- End Google Analytics -->\n",
      "\n",
      "        \n",
      "\n",
      "\n",
      "\n",
      "\n",
      "\n",
      "\n",
      "        <script type='text/javascript'>\n",
      "        (function(){\n",
      "            var site_list = window.white_site_list || new RegExp ([\n",
      "                '^https?://(.+\\\\.douban\\\\.com',\n",
      "                '|web[0-9]?\\\\.qq\\\\.com',\n",
      "                '|hao\\\\.qq\\\\.com',\n",
      "                '|(hao\\\\.)*360\\\\.cn',\n",
      "                '|so\\\\.com',\n",
      "                '|www\\\\.soso\\\\.com',\n",
      "                '|(www\\\\.)?growingio\\\\.com',\n",
      "                '|m-douban-com\\\\.mipcdn\\\\.com',\n",
      "                '|.+\\\\.baidu\\\\.com',\n",
      "                ')(\\\\:[\\\\d]+)?/'\n",
      "            ].join(''));\n",
      "            if (self !== top && document.referrer.search(site_list) === -1) {\n",
      "                top.location = self.location;\n",
      "            }\n",
      "        })();\n",
      "        </script>\n",
      "    </body>\n",
      "</html>\n",
      "\n",
      "\n",
      "\n",
      "\n",
      "\n",
      "\n",
      "\n",
      "\n",
      "\n",
      "\n",
      "\n",
      "\n",
      "\n",
      "\n",
      "\n"
     ]
    }
   ],
   "source": [
    "from urllib import request\n",
    "req=request.Request(\"http://www.douban.com/\")\n",
    "req.add_header('User-Agent','Mozilla/6.0(iPhone; CPU iPhone OS 8_0 like Mac OS X) AppleWebKit/536.26 (KHTML, like Gecko) Version/8.0 Mobile/10A5376e Safari/8536.25')\n",
    "with request.urlopen(req) as f:\n",
    "    print(\"Status:\",f.status,f.reason)\n",
    "    for k,v in f.getheaders():\n",
    "        print('%s:%s'%(k,v))\n",
    "    print('Data:',f.read().decode('utf-8'))"
   ]
  },
  {
   "cell_type": "markdown",
   "metadata": {},
   "source": [
    "2、Post 需要把参数data以bytes形式传入\n",
    "下面模拟一个微博登陆，先读取登陆的邮箱和口令，然后按照weibo.cn的登录页的格式以\n",
    "username=xxx&password=xxx的编码传入"
   ]
  },
  {
   "cell_type": "code",
   "execution_count": 17,
   "metadata": {},
   "outputs": [
    {
     "name": "stdout",
     "output_type": "stream",
     "text": [
      "Login to weibo.cn...\n",
      "Email: 2361210833@qq.com\n",
      "Password: ········\n",
      "Status: 200 OK\n",
      "Server: nginx/1.6.1\n",
      "Date: Wed, 30 Jan 2019 08:15:44 GMT\n",
      "Content-Type: text/html\n",
      "Transfer-Encoding: chunked\n",
      "Connection: close\n",
      "Vary: Accept-Encoding\n",
      "Cache-Control: no-cache, must-revalidate\n",
      "Expires: Sat, 26 Jul 1997 05:00:00 GMT\n",
      "Pragma: no-cache\n",
      "Access-Control-Allow-Origin: https://passport.weibo.cn\n",
      "Access-Control-Allow-Credentials: true\n",
      "DPOOL_HEADER: dryad25\n",
      "SINA-LB: aGEuMjM1LmcxLnF4Zy5sYi5zaW5hbm9kZS5jb20=\n",
      "SINA-TS: ZThjYTk0Y2UgMCAwIDAgNyAzNzEK\n",
      "Data: {\"retcode\":50011015,\"msg\":\"\\u7528\\u6237\\u540d\\u6216\\u5bc6\\u7801\\u9519\\u8bef\",\"data\":{\"username\":\"2361210833@qq.com\",\"errline\":656}}\n"
     ]
    }
   ],
   "source": [
    "from urllib import request, parse\n",
    "import getpass\n",
    "print('Login to weibo.cn...')\n",
    "email = input('Email: ')\n",
    "passwd = getpass.getpass('Password: ')\n",
    "login_data = parse.urlencode([\n",
    "    ('username', email),\n",
    "    ('password', passwd),\n",
    "    ('entry', 'mweibo'),\n",
    "    ('client_id', ''),\n",
    "    ('savestate', '1'),\n",
    "    ('ec', ''),\n",
    "    ('pagerefer', 'https://passport.weibo.cn/signin/welcome?entry=mweibo&r=http%3A%2F%2Fm.weibo.cn%2F')\n",
    "])\n",
    "req = request.Request('https://passport.weibo.cn/sso/login')\n",
    "req.add_header('Origin', 'https://passport.weibo.cn')\n",
    "req.add_header('User-Agent', 'Mozilla/6.0 (iPhone; CPU iPhone OS 8_0 like Mac OS X) AppleWebKit/536.26 (KHTML, like Gecko) Version/8.0 Mobile/10A5376e Safari/8536.25')\n",
    "req.add_header('Referer', 'https://passport.weibo.cn/signin/login?entry=mweibo&res=wel&wm=3349&r=http%3A%2F%2Fm.weibo.cn%2F')\n",
    "\n",
    "with request.urlopen(req, data=login_data.encode('utf-8')) as f:\n",
    "    print('Status:', f.status, f.reason)\n",
    "    for k, v in f.getheaders():\n",
    "        print('%s: %s' % (k, v))\n",
    "    print('Data:', f.read().decode('utf-8'))"
   ]
  },
  {
   "cell_type": "markdown",
   "metadata": {},
   "source": [
    "# 作业Day5"
   ]
  },
  {
   "cell_type": "code",
   "execution_count": 84,
   "metadata": {},
   "outputs": [
    {
     "name": "stdout",
     "output_type": "stream",
     "text": [
      "Status: 200 OK\n",
      "//www.baidu.com/img/bd_logo1.png\n"
     ]
    }
   ],
   "source": [
    "from datetime import datetime\n",
    "str=input(\"请按照Y-m-d H:M:S的格式输入一个日期：\")\n",
    "_date=datetime.strptime(str,'%Y-%m-%d %H:%M:%S')\n",
    "now=datetime.now()\n",
    "diff=now.timestamp()-_date.timestamp()\n",
    "# print(diff) #得到相差的秒数\n",
    "print(\"现在离输入的时间相差%d天，%d时，%d分，%d秒\"%(diff/(24*3600),diff%(24*3600)/3600,diff%3600/60,diff%60))\n",
    "\n",
    "import re\n",
    "telephone=input(\"请输入您的电话：\")\n",
    "resNum=re.match(r'^1[3,4,5,6,7,8]\\d{9}$',telephone)\n",
    "if resNum:\n",
    "    print(\"输入的电话合法\")\n",
    "else:\n",
    "    print(\"输入电话号码不合法\")\n",
    "email=input(\"请输入邮箱：\")\n",
    "resEmail=re.compile(r'^[a-zA-Z0-9_][a-zA-Z0-\\_\\-\\.]+@[a-zA-Z0-9]+\\.[com,cn,net]{1,3}$')\n",
    "if resEmail.match(email):\n",
    "    print(email)\n",
    "else:\n",
    "    print(\"输入的邮箱不合法\")\n",
    "\n",
    "    from urllib import request\n",
    "with request.urlopen('http://www.baidu.com') as f:\n",
    "    data=f.read()\n",
    "    print(\"Status:\",f.status,f.reason)\n",
    "    buf=data.decode('utf-8')\n",
    "    img=r'src=\"(.+?\\.png)\"'\n",
    "    imglist=re.findall(img,buf)\n",
    "    for addr in imglist:\n",
    "        print(addr)\n",
    "        request.urlretrieve(\"https:\"+addr,r\"E:\\2.allDrea\\pythonFold\\pyTraining\\logo.png\")"
   ]
  }
 ],
 "metadata": {
  "kernelspec": {
   "display_name": "Python 3",
   "language": "python",
   "name": "python3"
  },
  "language_info": {
   "codemirror_mode": {
    "name": "ipython",
    "version": 3
   },
   "file_extension": ".py",
   "mimetype": "text/x-python",
   "name": "python",
   "nbconvert_exporter": "python",
   "pygments_lexer": "ipython3",
   "version": "3.6.5"
  }
 },
 "nbformat": 4,
 "nbformat_minor": 2
}
